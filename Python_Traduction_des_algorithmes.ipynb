{
  "nbformat": 4,
  "nbformat_minor": 0,
  "metadata": {
    "colab": {
      "name": "Python_Traduction_des_algorithmes.ipynb",
      "version": "0.3.2",
      "provenance": [],
      "include_colab_link": true
    },
    "kernelspec": {
      "display_name": "Python 3",
      "language": "python",
      "name": "python3"
    }
  },
  "cells": [
    {
      "cell_type": "markdown",
      "metadata": {
        "id": "view-in-github",
        "colab_type": "text"
      },
      "source": [
        "<a href=\"https://colab.research.google.com/github/pacopizz/notebook/blob/master/Python_Traduction_des_algorithmes.ipynb\" target=\"_parent\"><img src=\"https://colab.research.google.com/assets/colab-badge.svg\" alt=\"Open In Colab\"/></a>"
      ]
    },
    {
      "cell_type": "markdown",
      "metadata": {
        "id": "pvDvQKeV1mVT",
        "colab_type": "text"
      },
      "source": [
        "# Correction du TP \"traduction des algorithmes en langage Python"
      ]
    },
    {
      "cell_type": "markdown",
      "metadata": {
        "id": "UXhxQXLY1mVT",
        "colab_type": "text"
      },
      "source": [
        "## Calcul de la longueur d'un segment"
      ]
    },
    {
      "cell_type": "code",
      "metadata": {
        "id": "gRdnQfgl1mVV",
        "colab_type": "code",
        "outputId": "6e17b14f-581c-4ff2-db76-a1d748c5cc2b",
        "colab": {
          "base_uri": "https://localhost:8080/",
          "height": 170
        }
      },
      "source": [
        "print (\"Entrez l’abscisse de A : \")\n",
        "x_A = float(input())\n",
        "print (\"Entrez l’ordonnée de A : \")\n",
        "y_A = float(input())\n",
        "print (\"Entrez l’abscisse de B : \")\n",
        "x_B = float(input())\n",
        "print (\"Entrez l’ordonnée de B : \")\n",
        "y_B = float(input())\n",
        "\n",
        "# calcul des coordonnées du milieu\n",
        "from math import sqrt\n",
        "L = sqrt((x_B - x_A)**2 + (y_B - y_A)**2) \n",
        "\n",
        "# affichage du résultat\n",
        "print (\"Le segment AB a pour longueur :\", L)"
      ],
      "execution_count": 1,
      "outputs": [
        {
          "output_type": "stream",
          "text": [
            "Entrez l’abscisse de A : \n",
            "1\n",
            "Entrez l’ordonnée de A : \n",
            "2\n",
            "Entrez l’abscisse de B : \n",
            "3\n",
            "Entrez l’ordonnée de B : \n",
            "4\n",
            "Le segment AB a pour longueur : 2.8284271247461903\n"
          ],
          "name": "stdout"
        }
      ]
    },
    {
      "cell_type": "markdown",
      "metadata": {
        "id": "LGwxl8BW1mVX",
        "colab_type": "text"
      },
      "source": [
        "## Test si une année est bissextile"
      ]
    },
    {
      "cell_type": "code",
      "metadata": {
        "id": "cZ7LcwSf1mVY",
        "colab_type": "code",
        "outputId": "c6c90179-0ac9-4cc9-957a-18c2f28a90bd",
        "colab": {
          "base_uri": "https://localhost:8080/",
          "height": 51
        }
      },
      "source": [
        "# Entrée des données\n",
        "print (\"Année ?\")\n",
        "annee = int(input())\n",
        "# Traitement conditionnel\n",
        "if annee%4 == 0 :\n",
        "    print (annee, \"est bissextile\")\n",
        "else :\n",
        "    print (annee, \"n'est pas bissextile\")"
      ],
      "execution_count": 0,
      "outputs": [
        {
          "output_type": "stream",
          "text": [
            "année ?1978\n",
            "1978 n'est pas bissextile\n"
          ],
          "name": "stdout"
        }
      ]
    },
    {
      "cell_type": "markdown",
      "metadata": {
        "id": "QzV0c7rs1mVa",
        "colab_type": "text"
      },
      "source": [
        "## Calcul du PGCD de 2 nombres entiers"
      ]
    },
    {
      "cell_type": "code",
      "metadata": {
        "id": "GvvOAoV01mVb",
        "colab_type": "code",
        "colab": {}
      },
      "source": [
        "# Entrée des données\n",
        "print (\"Entrez le nombre a : \")\n",
        "a = int(input())\n",
        "print (\"Entrez le nombre b : \")\n",
        "b = int(input())\n",
        "# Traitement répétitif\n",
        "while a != b :\n",
        "    if a > b :\n",
        "        a = a - b\n",
        "    else :\n",
        "        b = b - a\n",
        "# affichage du résultat\n",
        "print (a, \"est le PGCD\")"
      ],
      "execution_count": 0,
      "outputs": []
    },
    {
      "cell_type": "markdown",
      "metadata": {
        "id": "q7gUvJ811mVd",
        "colab_type": "text"
      },
      "source": [
        "## Affichage des puissances de 2 dans un intevalle"
      ]
    },
    {
      "cell_type": "code",
      "metadata": {
        "id": "4O5gVLZV1mVd",
        "colab_type": "code",
        "colab": {
          "base_uri": "https://localhost:8080/",
          "height": 238
        },
        "outputId": "33835769-474c-4227-ca5a-60ac832fa499"
      },
      "source": [
        "# Entrée des données\n",
        "print (\"Entrez la limite n : \")\n",
        "n = int(input())\n",
        "\n",
        "# traitement et affichage du résultat\n",
        "for i in range(n+1):\n",
        "    print(\"2 puissance\", i, \"=\", 2**i)"
      ],
      "execution_count": 2,
      "outputs": [
        {
          "output_type": "stream",
          "text": [
            "Entrez la limite n : \n",
            "10\n",
            "2 puissance 0 = 1\n",
            "2 puissance 1 = 2\n",
            "2 puissance 2 = 4\n",
            "2 puissance 3 = 8\n",
            "2 puissance 4 = 16\n",
            "2 puissance 5 = 32\n",
            "2 puissance 6 = 64\n",
            "2 puissance 7 = 128\n",
            "2 puissance 8 = 256\n",
            "2 puissance 9 = 512\n",
            "2 puissance 10 = 1024\n"
          ],
          "name": "stdout"
        }
      ]
    },
    {
      "cell_type": "markdown",
      "metadata": {
        "id": "cZ57MSXp1mVg",
        "colab_type": "text"
      },
      "source": [
        "## Jeu : trouver un nombre entier compris entre 1 et 100"
      ]
    },
    {
      "cell_type": "code",
      "metadata": {
        "id": "51X-NxDT1mVg",
        "colab_type": "code",
        "colab": {}
      },
      "source": [
        "import random\n",
        "nombreATrouver = random.randint(1, 100)\n",
        "nombreChoisi = 0\n",
        "while nombreChoisi != nombreATrouver :\n",
        "    nombreChoisi = int(input())\n",
        "    if nombreChoisi < nombreATrouver :\n",
        "        print(\"Trop petit\")\n",
        "    elif nombreChoisi > nombreATrouver :\n",
        "        print(\"Trop grand\")\n",
        "print(\"Gagné !\")"
      ],
      "execution_count": 0,
      "outputs": []
    },
    {
      "cell_type": "markdown",
      "metadata": {
        "id": "YPMehLhb1mVj",
        "colab_type": "text"
      },
      "source": [
        "## Recherche des nombres premiers dans un intevalle"
      ]
    },
    {
      "cell_type": "code",
      "metadata": {
        "id": "67fQ2g0f1mVj",
        "colab_type": "code",
        "colab": {}
      },
      "source": [
        "# Entrée des données\n",
        "print (\"Entrez le nombre N : \")\n",
        "N = int(input())\n",
        "# Par définition\n",
        "print (\"1 est un nombre premier\")\n",
        "# Traitement répété N-1 fois\n",
        "for i in range(2, N+1):\n",
        "    diviseur = 2\n",
        "    while i % diviseur != 0 and diviseur < i :\n",
        "        diviseur = diviseur + 1\n",
        "    if diviseur == i:\n",
        "        # affichage du résultat\n",
        "        print (i, \"est un nombre premier\")"
      ],
      "execution_count": 0,
      "outputs": []
    }
  ]
}